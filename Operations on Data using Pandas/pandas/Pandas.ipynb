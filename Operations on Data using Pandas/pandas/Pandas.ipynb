{
 "cells": [
  {
   "cell_type": "code",
   "execution_count": 1,
   "id": "15bfdd94-420f-4e32-a1f9-77bd1188e897",
   "metadata": {
    "tags": []
   },
   "outputs": [],
   "source": [
    "import pandas as pd"
   ]
  },
  {
   "cell_type": "code",
   "execution_count": 6,
   "id": "85125bf8-5d18-4bcd-9cf2-c8fe92ce58a8",
   "metadata": {},
   "outputs": [],
   "source": [
    "data=pd.read_csv(\"nba-2.csv\",index_col = \"Name\")"
   ]
  },
  {
   "cell_type": "code",
   "execution_count": 7,
   "id": "2b4f7e33-88b7-4431-b4f7-15a509dc285b",
   "metadata": {
    "tags": []
   },
   "outputs": [
    {
     "data": {
      "text/html": [
       "<div>\n",
       "<style scoped>\n",
       "    .dataframe tbody tr th:only-of-type {\n",
       "        vertical-align: middle;\n",
       "    }\n",
       "\n",
       "    .dataframe tbody tr th {\n",
       "        vertical-align: top;\n",
       "    }\n",
       "\n",
       "    .dataframe thead th {\n",
       "        text-align: right;\n",
       "    }\n",
       "</style>\n",
       "<table border=\"1\" class=\"dataframe\">\n",
       "  <thead>\n",
       "    <tr style=\"text-align: right;\">\n",
       "      <th></th>\n",
       "      <th>Team</th>\n",
       "      <th>Number</th>\n",
       "      <th>Position</th>\n",
       "      <th>Age</th>\n",
       "      <th>Height</th>\n",
       "      <th>Weight</th>\n",
       "      <th>College</th>\n",
       "      <th>Salary</th>\n",
       "    </tr>\n",
       "    <tr>\n",
       "      <th>Name</th>\n",
       "      <th></th>\n",
       "      <th></th>\n",
       "      <th></th>\n",
       "      <th></th>\n",
       "      <th></th>\n",
       "      <th></th>\n",
       "      <th></th>\n",
       "      <th></th>\n",
       "    </tr>\n",
       "  </thead>\n",
       "  <tbody>\n",
       "    <tr>\n",
       "      <th>Avery Bradley</th>\n",
       "      <td>Boston Celtics</td>\n",
       "      <td>0.0</td>\n",
       "      <td>PG</td>\n",
       "      <td>25.0</td>\n",
       "      <td>6-2</td>\n",
       "      <td>180.0</td>\n",
       "      <td>Texas</td>\n",
       "      <td>7730337.0</td>\n",
       "    </tr>\n",
       "    <tr>\n",
       "      <th>Jae Crowder</th>\n",
       "      <td>Boston Celtics</td>\n",
       "      <td>99.0</td>\n",
       "      <td>SF</td>\n",
       "      <td>25.0</td>\n",
       "      <td>6-6</td>\n",
       "      <td>235.0</td>\n",
       "      <td>Marquette</td>\n",
       "      <td>6796117.0</td>\n",
       "    </tr>\n",
       "    <tr>\n",
       "      <th>John Holland</th>\n",
       "      <td>Boston Celtics</td>\n",
       "      <td>30.0</td>\n",
       "      <td>SG</td>\n",
       "      <td>27.0</td>\n",
       "      <td>6-5</td>\n",
       "      <td>205.0</td>\n",
       "      <td>Boston University</td>\n",
       "      <td>NaN</td>\n",
       "    </tr>\n",
       "    <tr>\n",
       "      <th>R.J. Hunter</th>\n",
       "      <td>Boston Celtics</td>\n",
       "      <td>28.0</td>\n",
       "      <td>SG</td>\n",
       "      <td>22.0</td>\n",
       "      <td>6-5</td>\n",
       "      <td>185.0</td>\n",
       "      <td>Georgia State</td>\n",
       "      <td>1148640.0</td>\n",
       "    </tr>\n",
       "    <tr>\n",
       "      <th>Jonas Jerebko</th>\n",
       "      <td>Boston Celtics</td>\n",
       "      <td>8.0</td>\n",
       "      <td>PF</td>\n",
       "      <td>29.0</td>\n",
       "      <td>6-10</td>\n",
       "      <td>231.0</td>\n",
       "      <td>NaN</td>\n",
       "      <td>5000000.0</td>\n",
       "    </tr>\n",
       "  </tbody>\n",
       "</table>\n",
       "</div>"
      ],
      "text/plain": [
       "                         Team  Number Position   Age Height  Weight  \\\n",
       "Name                                                                  \n",
       "Avery Bradley  Boston Celtics     0.0       PG  25.0    6-2   180.0   \n",
       "Jae Crowder    Boston Celtics    99.0       SF  25.0    6-6   235.0   \n",
       "John Holland   Boston Celtics    30.0       SG  27.0    6-5   205.0   \n",
       "R.J. Hunter    Boston Celtics    28.0       SG  22.0    6-5   185.0   \n",
       "Jonas Jerebko  Boston Celtics     8.0       PF  29.0   6-10   231.0   \n",
       "\n",
       "                         College     Salary  \n",
       "Name                                         \n",
       "Avery Bradley              Texas  7730337.0  \n",
       "Jae Crowder            Marquette  6796117.0  \n",
       "John Holland   Boston University        NaN  \n",
       "R.J. Hunter        Georgia State  1148640.0  \n",
       "Jonas Jerebko                NaN  5000000.0  "
      ]
     },
     "execution_count": 7,
     "metadata": {},
     "output_type": "execute_result"
    }
   ],
   "source": [
    "data.head()"
   ]
  },
  {
   "cell_type": "markdown",
   "id": "e411492e-d71d-466c-9950-d8cadb83bb1e",
   "metadata": {},
   "source": [
    "Selecting Single Column"
   ]
  },
  {
   "cell_type": "code",
   "execution_count": 9,
   "id": "6f89cae3-5b22-41f7-8060-b6a528159b9f",
   "metadata": {
    "tags": []
   },
   "outputs": [
    {
     "name": "stdout",
     "output_type": "stream",
     "text": [
      "Name\n",
      "Avery Bradley    25.0\n",
      "Jae Crowder      25.0\n",
      "John Holland     27.0\n",
      "R.J. Hunter      22.0\n",
      "Jonas Jerebko    29.0\n",
      "                 ... \n",
      "Shelvin Mack     26.0\n",
      "Raul Neto        24.0\n",
      "Tibor Pleiss     26.0\n",
      "Jeff Withey      26.0\n",
      "NaN               NaN\n",
      "Name: Age, Length: 458, dtype: float64\n"
     ]
    }
   ],
   "source": [
    "age = data[\"Age\"]\n",
    "print(age)"
   ]
  },
  {
   "cell_type": "markdown",
   "id": "73b0af65-04c6-4c54-bb9d-b169677f898f",
   "metadata": {},
   "source": [
    "Selecting Multiple Column"
   ]
  },
  {
   "cell_type": "code",
   "execution_count": 13,
   "id": "724024e9-9c5f-4711-a137-96f5757e6e58",
   "metadata": {
    "tags": []
   },
   "outputs": [
    {
     "name": "stdout",
     "output_type": "stream",
     "text": [
      "                Age            College     Salary\n",
      "Name                                             \n",
      "Avery Bradley  25.0              Texas  7730337.0\n",
      "Jae Crowder    25.0          Marquette  6796117.0\n",
      "John Holland   27.0  Boston University        NaN\n",
      "R.J. Hunter    22.0      Georgia State  1148640.0\n",
      "Jonas Jerebko  29.0                NaN  5000000.0\n",
      "...             ...                ...        ...\n",
      "Shelvin Mack   26.0             Butler  2433333.0\n",
      "Raul Neto      24.0                NaN   900000.0\n",
      "Tibor Pleiss   26.0                NaN  2900000.0\n",
      "Jeff Withey    26.0             Kansas   947276.0\n",
      "NaN             NaN                NaN        NaN\n",
      "\n",
      "[458 rows x 3 columns]\n"
     ]
    }
   ],
   "source": [
    "columns = data[[\"Age\",\"College\",\"Salary\"]]\n",
    "print(columns)"
   ]
  },
  {
   "cell_type": "markdown",
   "id": "1801fb48-dadc-49fc-813f-19526c55059e",
   "metadata": {},
   "source": [
    ".loc[] -> Selects the data by the label of rows and columns"
   ]
  },
  {
   "cell_type": "markdown",
   "id": "ff0e8f53-01df-426f-a2aa-e707ae61d6b1",
   "metadata": {},
   "source": [
    "Selecting Single Row"
   ]
  },
  {
   "cell_type": "code",
   "execution_count": 16,
   "id": "e907656e-a5da-45bd-bd10-0ea1ebf95687",
   "metadata": {
    "tags": []
   },
   "outputs": [
    {
     "name": "stdout",
     "output_type": "stream",
     "text": [
      "Team        Utah Jazz\n",
      "Number            8.0\n",
      "Position           PG\n",
      "Age              26.0\n",
      "Height            6-3\n",
      "Weight          203.0\n",
      "College        Butler\n",
      "Salary      2433333.0\n",
      "Name: Shelvin Mack, dtype: object\n"
     ]
    }
   ],
   "source": [
    "first_row = data.loc[\"Shelvin Mack\"]\n",
    "print(first_row)"
   ]
  },
  {
   "cell_type": "markdown",
   "id": "fb195354-31a7-4865-af52-72a34156383a",
   "metadata": {},
   "source": [
    "Selecting Multiple Rows"
   ]
  },
  {
   "cell_type": "code",
   "execution_count": 26,
   "id": "a5ce0be9-6aac-4f0e-a095-8f4c355edcb4",
   "metadata": {
    "tags": []
   },
   "outputs": [
    {
     "name": "stdout",
     "output_type": "stream",
     "text": [
      "                         Team  Number Position   Age Height  Weight  \\\n",
      "Name                                                                  \n",
      "Avery Bradley  Boston Celtics     0.0       PG  25.0    6-2   180.0   \n",
      "R.J. Hunter    Boston Celtics    28.0       SG  22.0    6-5   185.0   \n",
      "\n",
      "                     College     Salary  \n",
      "Name                                     \n",
      "Avery Bradley          Texas  7730337.0  \n",
      "R.J. Hunter    Georgia State  1148640.0  \n"
     ]
    }
   ],
   "source": [
    "rows = data.loc[[\"Avery Bradley\",\"R.J. Hunter\"]]\n",
    "print(rows)"
   ]
  },
  {
   "cell_type": "markdown",
   "id": "05a61cef-fe24-4465-955c-6976a663517c",
   "metadata": {},
   "source": [
    "Selecting Two rows and three columns"
   ]
  },
  {
   "cell_type": "code",
   "execution_count": 22,
   "id": "f42b19f8-1cac-4430-8157-da0d0636a5a2",
   "metadata": {
    "tags": []
   },
   "outputs": [
    {
     "name": "stdout",
     "output_type": "stream",
     "text": [
      "                         Team  Number Position\n",
      "Name                                          \n",
      "Avery Bradley  Boston Celtics     0.0       PG\n",
      "R.J. Hunter    Boston Celtics    28.0       SG\n"
     ]
    }
   ],
   "source": [
    "data_nba = data.loc[[\"Avery Bradley\", \"R.J. Hunter\"], \n",
    "                   [\"Team\", \"Number\", \"Position\"]] \n",
    "print(data_nba)"
   ]
  },
  {
   "cell_type": "markdown",
   "id": "6493463c-cd7a-4c1b-8a41-418f80450995",
   "metadata": {
    "tags": []
   },
   "source": [
    "All rows and Some Columns"
   ]
  },
  {
   "cell_type": "code",
   "execution_count": 25,
   "id": "81547ec1-9762-4f35-8a8f-84b1f798a895",
   "metadata": {
    "tags": []
   },
   "outputs": [
    {
     "name": "stdout",
     "output_type": "stream",
     "text": [
      "                         Team  Number Position\n",
      "Name                                          \n",
      "Avery Bradley  Boston Celtics     0.0       PG\n",
      "Jae Crowder    Boston Celtics    99.0       SF\n",
      "John Holland   Boston Celtics    30.0       SG\n",
      "R.J. Hunter    Boston Celtics    28.0       SG\n",
      "Jonas Jerebko  Boston Celtics     8.0       PF\n",
      "...                       ...     ...      ...\n",
      "Shelvin Mack        Utah Jazz     8.0       PG\n",
      "Raul Neto           Utah Jazz    25.0       PG\n",
      "Tibor Pleiss        Utah Jazz    21.0        C\n",
      "Jeff Withey         Utah Jazz    24.0        C\n",
      "NaN                       NaN     NaN      NaN\n",
      "\n",
      "[458 rows x 3 columns]\n"
     ]
    }
   ],
   "source": [
    "data_nba = data.loc[:, \n",
    "                   [\"Team\", \"Number\", \"Position\"]] \n",
    "print(data_nba)"
   ]
  },
  {
   "cell_type": "code",
   "execution_count": 28,
   "id": "d8c3792c-28e5-49b2-87c4-0f7fef99f338",
   "metadata": {
    "tags": []
   },
   "outputs": [
    {
     "name": "stdout",
     "output_type": "stream",
     "text": [
      "Team        Boston Celtics\n",
      "Number                28.0\n",
      "Position                SG\n",
      "Age                   22.0\n",
      "Height                 6-5\n",
      "Weight               185.0\n",
      "College      Georgia State\n",
      "Salary           1148640.0\n",
      "Name: R.J. Hunter, dtype: object\n"
     ]
    }
   ],
   "source": [
    "row2 = data.iloc[3]\n",
    "print(row2)"
   ]
  },
  {
   "cell_type": "markdown",
   "id": "33a8ccea-3f13-41f5-9d42-13dc96ca1672",
   "metadata": {},
   "source": [
    "Selecting Multiple Rows"
   ]
  },
  {
   "cell_type": "code",
   "execution_count": 30,
   "id": "14007871-a93a-43b1-91fb-4b246d2bccab",
   "metadata": {
    "tags": []
   },
   "outputs": [
    {
     "name": "stdout",
     "output_type": "stream",
     "text": [
      "                         Team  Number Position   Age Height  Weight  \\\n",
      "Name                                                                  \n",
      "R.J. Hunter    Boston Celtics    28.0       SG  22.0    6-5   185.0   \n",
      "Jonas Jerebko  Boston Celtics     8.0       PF  29.0   6-10   231.0   \n",
      "Amir Johnson   Boston Celtics    90.0       PF  29.0    6-9   240.0   \n",
      "\n",
      "                     College      Salary  \n",
      "Name                                      \n",
      "R.J. Hunter    Georgia State   1148640.0  \n",
      "Jonas Jerebko            NaN   5000000.0  \n",
      "Amir Johnson             NaN  12000000.0  \n"
     ]
    }
   ],
   "source": [
    "data_nba = data.iloc[[3,4,5]]\n",
    "print(data_nba)"
   ]
  },
  {
   "cell_type": "code",
   "execution_count": 31,
   "id": "57d1a443-a204-48d7-83b7-ec272c79c3e1",
   "metadata": {
    "tags": []
   },
   "outputs": [
    {
     "name": "stdout",
     "output_type": "stream",
     "text": [
      "               Number Position\n",
      "Name                          \n",
      "R.J. Hunter      28.0       SG\n",
      "Jonas Jerebko     8.0       PF\n"
     ]
    }
   ],
   "source": [
    "data_nba = data.iloc[[3,4],[1,2]]\n",
    "print(data_nba)"
   ]
  },
  {
   "cell_type": "code",
   "execution_count": 32,
   "id": "550b4372-b262-48f9-83ff-0d7fb3923ffc",
   "metadata": {
    "tags": []
   },
   "outputs": [
    {
     "name": "stdout",
     "output_type": "stream",
     "text": [
      "               Number Position\n",
      "Name                          \n",
      "Avery Bradley     0.0       PG\n",
      "Jae Crowder      99.0       SF\n",
      "John Holland     30.0       SG\n",
      "R.J. Hunter      28.0       SG\n",
      "Jonas Jerebko     8.0       PF\n",
      "...               ...      ...\n",
      "Shelvin Mack      8.0       PG\n",
      "Raul Neto        25.0       PG\n",
      "Tibor Pleiss     21.0        C\n",
      "Jeff Withey      24.0        C\n",
      "NaN               NaN      NaN\n",
      "\n",
      "[458 rows x 2 columns]\n"
     ]
    }
   ],
   "source": [
    "data_nba = data.iloc[:,[1,2]]\n",
    "print(data_nba)"
   ]
  },
  {
   "cell_type": "markdown",
   "id": "249cde87-34b9-4004-9451-c19f53b7c192",
   "metadata": {},
   "source": [
    ".ix[] indexer"
   ]
  },
  {
   "cell_type": "markdown",
   "id": "175c1913-c0f8-4e55-88bd-8b801f55907c",
   "metadata": {},
   "source": [
    "This only works where the index of the DataFrame is not integer based .ix will accept any of the inputs of .loc and .iloc."
   ]
  },
  {
   "cell_type": "markdown",
   "id": "0fec8e47-169a-4e56-a8e0-2b689e7aec4a",
   "metadata": {
    "tags": []
   },
   "source": [
    "The .ix indexer has been deprecated in recent versions of Pandas."
   ]
  },
  {
   "cell_type": "code",
   "execution_count": 36,
   "id": "7639e50c-6bb3-4980-8f5b-8218b854c5a2",
   "metadata": {
    "tags": []
   },
   "outputs": [
    {
     "name": "stdout",
     "output_type": "stream",
     "text": [
      "                         Team  Number Position   Age Height  Weight  \\\n",
      "Name                                                                  \n",
      "Avery Bradley  Boston Celtics     0.0       PG  25.0    6-2   180.0   \n",
      "Jae Crowder    Boston Celtics    99.0       SF  25.0    6-6   235.0   \n",
      "John Holland   Boston Celtics    30.0       SG  27.0    6-5   205.0   \n",
      "\n",
      "                         College     Salary  \n",
      "Name                                         \n",
      "Avery Bradley              Texas  7730337.0  \n",
      "Jae Crowder            Marquette  6796117.0  \n",
      "John Holland   Boston University        NaN  \n"
     ]
    }
   ],
   "source": [
    "data_nba = data[0:3]\n",
    "print(data_nba)"
   ]
  },
  {
   "cell_type": "code",
   "execution_count": 38,
   "id": "91bbf1b7-e2b6-4e44-901a-996616e63e1d",
   "metadata": {
    "tags": []
   },
   "outputs": [
    {
     "name": "stdout",
     "output_type": "stream",
     "text": [
      "                         Team  Number Position   Age Height  Weight  \\\n",
      "Name                                                                  \n",
      "Avery Bradley  Boston Celtics     0.0       PG  25.0    6-2   180.0   \n",
      "Jae Crowder    Boston Celtics    99.0       SF  25.0    6-6   235.0   \n",
      "John Holland   Boston Celtics    30.0       SG  27.0    6-5   205.0   \n",
      "\n",
      "                         College     Salary  \n",
      "Name                                         \n",
      "Avery Bradley              Texas  7730337.0  \n",
      "Jae Crowder            Marquette  6796117.0  \n",
      "John Holland   Boston University        NaN  \n"
     ]
    }
   ],
   "source": [
    "data_nba = data[:3]\n",
    "print(data_nba)"
   ]
  },
  {
   "cell_type": "code",
   "execution_count": 46,
   "id": "956eed0b-3f36-4006-8b96-1f600a345b49",
   "metadata": {
    "tags": []
   },
   "outputs": [
    {
     "name": "stdout",
     "output_type": "stream",
     "text": [
      "                    Team  Number Position   Age Height  Weight   College  \\\n",
      "Name                                                                       \n",
      "Joe Ingles     Utah Jazz     2.0       SF  28.0    6-8   226.0       NaN   \n",
      "Chris Johnson  Utah Jazz    23.0       SF  26.0    6-6   206.0    Dayton   \n",
      "Trey Lyles     Utah Jazz    41.0       PF  20.0   6-10   234.0  Kentucky   \n",
      "Shelvin Mack   Utah Jazz     8.0       PG  26.0    6-3   203.0    Butler   \n",
      "Raul Neto      Utah Jazz    25.0       PG  24.0    6-1   179.0       NaN   \n",
      "Tibor Pleiss   Utah Jazz    21.0        C  26.0    7-3   256.0       NaN   \n",
      "Jeff Withey    Utah Jazz    24.0        C  26.0    7-0   231.0    Kansas   \n",
      "NaN                  NaN     NaN      NaN   NaN    NaN     NaN       NaN   \n",
      "\n",
      "                  Salary  \n",
      "Name                      \n",
      "Joe Ingles     2050000.0  \n",
      "Chris Johnson   981348.0  \n",
      "Trey Lyles     2239800.0  \n",
      "Shelvin Mack   2433333.0  \n",
      "Raul Neto       900000.0  \n",
      "Tibor Pleiss   2900000.0  \n",
      "Jeff Withey     947276.0  \n",
      "NaN                  NaN  \n"
     ]
    }
   ],
   "source": [
    "data_nba = data[450:]\n",
    "print(data_nba)"
   ]
  },
  {
   "cell_type": "code",
   "execution_count": 49,
   "id": "e1886f83-fc4a-4758-be71-a564a6d74ab4",
   "metadata": {
    "tags": []
   },
   "outputs": [
    {
     "name": "stdout",
     "output_type": "stream",
     "text": [
      "                         Team  Number Position   Age Height  Weight  \\\n",
      "Name                                                                  \n",
      "Avery Bradley  Boston Celtics     0.0       PG  25.0    6-2   180.0   \n",
      "John Holland   Boston Celtics    30.0       SG  27.0    6-5   205.0   \n",
      "Jonas Jerebko  Boston Celtics     8.0       PF  29.0   6-10   231.0   \n",
      "\n",
      "                         College     Salary  \n",
      "Name                                         \n",
      "Avery Bradley              Texas  7730337.0  \n",
      "John Holland   Boston University        NaN  \n",
      "Jonas Jerebko                NaN  5000000.0  \n"
     ]
    }
   ],
   "source": [
    "data_nba = data[0:5:2]\n",
    "print(data_nba)"
   ]
  },
  {
   "cell_type": "markdown",
   "id": "35995daf-f255-4a18-b81e-3bb079d8d612",
   "metadata": {},
   "source": [
    "Apply Functions"
   ]
  },
  {
   "cell_type": "code",
   "execution_count": 50,
   "id": "34fe5685-7589-4eb4-b33d-83ef06c3a50c",
   "metadata": {
    "tags": []
   },
   "outputs": [
    {
     "data": {
      "text/plain": [
       "Index(['Team', 'Number', 'Position', 'Age', 'Height', 'Weight', 'College',\n",
       "       'Salary'],\n",
       "      dtype='object')"
      ]
     },
     "execution_count": 50,
     "metadata": {},
     "output_type": "execute_result"
    }
   ],
   "source": [
    "data.columns"
   ]
  },
  {
   "cell_type": "code",
   "execution_count": 53,
   "id": "9fba1cd8-8d7d-4117-b8cd-014d270d6fd2",
   "metadata": {
    "tags": []
   },
   "outputs": [
    {
     "name": "stdout",
     "output_type": "stream",
     "text": [
      "25000000.0\n",
      "30888.0\n"
     ]
    }
   ],
   "source": [
    "print(max(data[\"Salary\"]))\n",
    "print(min(data[\"Salary\"]))"
   ]
  },
  {
   "cell_type": "code",
   "execution_count": 58,
   "id": "15813317-9b7e-4db4-8b64-5f33bcbcb1ba",
   "metadata": {
    "tags": []
   },
   "outputs": [
    {
     "data": {
      "text/plain": [
       "Name\n",
       "Avery Bradley    High\n",
       "Jae Crowder      High\n",
       "John Holland      Low\n",
       "R.J. Hunter      High\n",
       "Jonas Jerebko    High\n",
       "                 ... \n",
       "Shelvin Mack     High\n",
       "Raul Neto         Mid\n",
       "Tibor Pleiss     High\n",
       "Jeff Withey       Mid\n",
       "NaN               Low\n",
       "Name: Salary, Length: 458, dtype: object"
      ]
     },
     "execution_count": 58,
     "metadata": {},
     "output_type": "execute_result"
    }
   ],
   "source": [
    "def salary_func(x,h,l):\n",
    "    if x > h:\n",
    "        return \"High\"\n",
    "    if x > l:\n",
    "        return \"Mid\"\n",
    "    return \"Low\"\n",
    "\n",
    "data[\"Salary\"].apply(salary_func, args = [1000000,60000])"
   ]
  },
  {
   "cell_type": "code",
   "execution_count": 59,
   "id": "0f5650bb-7abe-4614-878d-93d9aaa88d9a",
   "metadata": {
    "tags": []
   },
   "outputs": [
    {
     "data": {
      "text/html": [
       "<div>\n",
       "<style scoped>\n",
       "    .dataframe tbody tr th:only-of-type {\n",
       "        vertical-align: middle;\n",
       "    }\n",
       "\n",
       "    .dataframe tbody tr th {\n",
       "        vertical-align: top;\n",
       "    }\n",
       "\n",
       "    .dataframe thead th {\n",
       "        text-align: right;\n",
       "    }\n",
       "</style>\n",
       "<table border=\"1\" class=\"dataframe\">\n",
       "  <thead>\n",
       "    <tr style=\"text-align: right;\">\n",
       "      <th></th>\n",
       "      <th>Team</th>\n",
       "      <th>Number</th>\n",
       "      <th>Position</th>\n",
       "      <th>Age</th>\n",
       "      <th>Height</th>\n",
       "      <th>Weight</th>\n",
       "      <th>College</th>\n",
       "      <th>Salary</th>\n",
       "    </tr>\n",
       "  </thead>\n",
       "  <tbody>\n",
       "    <tr>\n",
       "      <th>0</th>\n",
       "      <td>New Orleans Pelicans</td>\n",
       "      <td>5.0</td>\n",
       "      <td>SG</td>\n",
       "      <td>24.0</td>\n",
       "      <td>6-9</td>\n",
       "      <td>220.0</td>\n",
       "      <td>Kentucky</td>\n",
       "      <td>947276.0</td>\n",
       "    </tr>\n",
       "  </tbody>\n",
       "</table>\n",
       "</div>"
      ],
      "text/plain": [
       "                   Team  Number Position   Age Height  Weight   College  \\\n",
       "0  New Orleans Pelicans     5.0       SG  24.0    6-9   220.0  Kentucky   \n",
       "\n",
       "     Salary  \n",
       "0  947276.0  "
      ]
     },
     "execution_count": 59,
     "metadata": {},
     "output_type": "execute_result"
    }
   ],
   "source": [
    "#Returnd mode of each columns (Summary row)\n",
    "#mode is most common values\n",
    "def mode(x):\n",
    "    return x.mode()\n",
    "\n",
    "data.apply(mode,axis=0)"
   ]
  },
  {
   "cell_type": "code",
   "execution_count": 61,
   "id": "6b23f507-0a3a-4497-b3bb-633a01e416b6",
   "metadata": {
    "tags": []
   },
   "outputs": [
    {
     "data": {
      "text/plain": [
       "Name\n",
       "Avery Bradley    14\n",
       "Jae Crowder      14\n",
       "John Holland     17\n",
       "R.J. Hunter      14\n",
       "Jonas Jerebko    14\n",
       "                 ..\n",
       "Shelvin Mack      9\n",
       "Raul Neto         9\n",
       "Tibor Pleiss      9\n",
       "Jeff Withey       9\n",
       "NaN               3\n",
       "Length: 458, dtype: int64"
      ]
     },
     "execution_count": 61,
     "metadata": {},
     "output_type": "execute_result"
    }
   ],
   "source": [
    "#Apply function to each row\n",
    "# max length of all the objects in that row \n",
    "def max_str_len(x):\n",
    "    return max([len(str(v)) for v in x])\n",
    "\n",
    "data.apply(max_str_len , axis = 1)"
   ]
  },
  {
   "cell_type": "code",
   "execution_count": 63,
   "id": "a7393cb3-1f3a-4d20-aea4-c0879cb53fda",
   "metadata": {
    "tags": []
   },
   "outputs": [
    {
     "data": {
      "text/plain": [
       "Name\n",
       "Avery Bradley    Boston Celtics in Position PG\n",
       "Jae Crowder      Boston Celtics in Position SF\n",
       "John Holland     Boston Celtics in Position SG\n",
       "R.J. Hunter      Boston Celtics in Position SG\n",
       "Jonas Jerebko    Boston Celtics in Position PF\n",
       "                             ...              \n",
       "Shelvin Mack          Utah Jazz in Position PG\n",
       "Raul Neto             Utah Jazz in Position PG\n",
       "Tibor Pleiss           Utah Jazz in Position C\n",
       "Jeff Withey            Utah Jazz in Position C\n",
       "NaN                        nan in Position nan\n",
       "Length: 458, dtype: object"
      ]
     },
     "execution_count": 63,
     "metadata": {},
     "output_type": "execute_result"
    }
   ],
   "source": [
    "def make_string(x):\n",
    "    return f\"{x.Team} in Position {x.Position}\"\n",
    "\n",
    "data.apply(make_string,axis = 1)"
   ]
  },
  {
   "cell_type": "code",
   "execution_count": null,
   "id": "e0329668-dda0-4982-8980-6d4efce9f08a",
   "metadata": {},
   "outputs": [],
   "source": []
  },
  {
   "cell_type": "code",
   "execution_count": 73,
   "id": "f1b9c30b-6500-443f-aa20-b65edd33ea9a",
   "metadata": {
    "tags": []
   },
   "outputs": [
    {
     "name": "stdout",
     "output_type": "stream",
     "text": [
      "Name\n",
      "Avery Bradley      5.0\n",
      "Jae Crowder      104.0\n",
      "John Holland      35.0\n",
      "R.J. Hunter       33.0\n",
      "Jonas Jerebko     13.0\n",
      "Name: Number, dtype: float64\n",
      "Name\n",
      "Avery Bradley     0.0\n",
      "Jae Crowder      99.0\n",
      "John Holland     30.0\n",
      "R.J. Hunter      28.0\n",
      "Jonas Jerebko     8.0\n",
      "Name: Number, dtype: float64\n"
     ]
    }
   ],
   "source": [
    "print(data['Number'].apply(lambda x : x+5).head())\n",
    "print(data['Number'].head())"
   ]
  },
  {
   "cell_type": "code",
   "execution_count": 76,
   "id": "ce584bbb-33bf-44c5-a7f6-bf97ef5d49e8",
   "metadata": {
    "tags": []
   },
   "outputs": [
    {
     "data": {
      "text/plain": [
       "Team         object\n",
       "Number      float64\n",
       "Position     object\n",
       "Age         float64\n",
       "Height       object\n",
       "Weight      float64\n",
       "College      object\n",
       "Salary      float64\n",
       "dtype: object"
      ]
     },
     "execution_count": 76,
     "metadata": {},
     "output_type": "execute_result"
    }
   ],
   "source": [
    "data.dtypes"
   ]
  },
  {
   "cell_type": "markdown",
   "id": "7246bba1-8c9a-46bd-bf85-312d2af7027c",
   "metadata": {},
   "source": [
    "Aggregate Functions"
   ]
  },
  {
   "cell_type": "code",
   "execution_count": 80,
   "id": "fce63b2e-c69a-47fb-8012-b787adc39d90",
   "metadata": {
    "tags": []
   },
   "outputs": [
    {
     "data": {
      "text/html": [
       "<div>\n",
       "<style scoped>\n",
       "    .dataframe tbody tr th:only-of-type {\n",
       "        vertical-align: middle;\n",
       "    }\n",
       "\n",
       "    .dataframe tbody tr th {\n",
       "        vertical-align: top;\n",
       "    }\n",
       "\n",
       "    .dataframe thead th {\n",
       "        text-align: right;\n",
       "    }\n",
       "</style>\n",
       "<table border=\"1\" class=\"dataframe\">\n",
       "  <thead>\n",
       "    <tr style=\"text-align: right;\">\n",
       "      <th></th>\n",
       "      <th>Number</th>\n",
       "      <th>Age</th>\n",
       "      <th>Salary</th>\n",
       "    </tr>\n",
       "  </thead>\n",
       "  <tbody>\n",
       "    <tr>\n",
       "      <th>sum</th>\n",
       "      <td>8079.0</td>\n",
       "      <td>NaN</td>\n",
       "      <td>2.159837e+09</td>\n",
       "    </tr>\n",
       "    <tr>\n",
       "      <th>min</th>\n",
       "      <td>0.0</td>\n",
       "      <td>19.0</td>\n",
       "      <td>NaN</td>\n",
       "    </tr>\n",
       "    <tr>\n",
       "      <th>max</th>\n",
       "      <td>NaN</td>\n",
       "      <td>40.0</td>\n",
       "      <td>NaN</td>\n",
       "    </tr>\n",
       "  </tbody>\n",
       "</table>\n",
       "</div>"
      ],
      "text/plain": [
       "     Number   Age        Salary\n",
       "sum  8079.0   NaN  2.159837e+09\n",
       "min     0.0  19.0           NaN\n",
       "max     NaN  40.0           NaN"
      ]
     },
     "execution_count": 80,
     "metadata": {},
     "output_type": "execute_result"
    }
   ],
   "source": [
    "data.aggregate({\"Number\":['sum','min'],\n",
    "               \"Age\":['max','min'],\n",
    "               \"Salary\":['sum']})"
   ]
  },
  {
   "cell_type": "code",
   "execution_count": 82,
   "id": "92f13638-b56b-4904-8ae5-0fbe657a5b7d",
   "metadata": {
    "tags": []
   },
   "outputs": [
    {
     "data": {
      "text/plain": [
       "Age          19.0\n",
       "Salary    30888.0\n",
       "dtype: float64"
      ]
     },
     "execution_count": 82,
     "metadata": {},
     "output_type": "execute_result"
    }
   ],
   "source": [
    "data[['Age','Salary']].aggregate('min')"
   ]
  },
  {
   "cell_type": "code",
   "execution_count": 93,
   "id": "eeb1a38b-2b59-4d1b-a277-25bd48f23831",
   "metadata": {
    "tags": []
   },
   "outputs": [
    {
     "data": {
      "text/html": [
       "<div>\n",
       "<style scoped>\n",
       "    .dataframe tbody tr th:only-of-type {\n",
       "        vertical-align: middle;\n",
       "    }\n",
       "\n",
       "    .dataframe tbody tr th {\n",
       "        vertical-align: top;\n",
       "    }\n",
       "\n",
       "    .dataframe thead tr th {\n",
       "        text-align: left;\n",
       "    }\n",
       "\n",
       "    .dataframe thead tr:last-of-type th {\n",
       "        text-align: right;\n",
       "    }\n",
       "</style>\n",
       "<table border=\"1\" class=\"dataframe\">\n",
       "  <thead>\n",
       "    <tr>\n",
       "      <th></th>\n",
       "      <th colspan=\"2\" halign=\"left\">Age</th>\n",
       "      <th colspan=\"2\" halign=\"left\">Salary</th>\n",
       "    </tr>\n",
       "    <tr>\n",
       "      <th></th>\n",
       "      <th>max</th>\n",
       "      <th>min</th>\n",
       "      <th>max</th>\n",
       "      <th>min</th>\n",
       "    </tr>\n",
       "    <tr>\n",
       "      <th>Team</th>\n",
       "      <th></th>\n",
       "      <th></th>\n",
       "      <th></th>\n",
       "      <th></th>\n",
       "    </tr>\n",
       "  </thead>\n",
       "  <tbody>\n",
       "    <tr>\n",
       "      <th>Atlanta Hawks</th>\n",
       "      <td>35.0</td>\n",
       "      <td>22.0</td>\n",
       "      <td>18671659.0</td>\n",
       "      <td>525093.0</td>\n",
       "    </tr>\n",
       "    <tr>\n",
       "      <th>Boston Celtics</th>\n",
       "      <td>29.0</td>\n",
       "      <td>20.0</td>\n",
       "      <td>12000000.0</td>\n",
       "      <td>1148640.0</td>\n",
       "    </tr>\n",
       "    <tr>\n",
       "      <th>Brooklyn Nets</th>\n",
       "      <td>32.0</td>\n",
       "      <td>21.0</td>\n",
       "      <td>19689000.0</td>\n",
       "      <td>134215.0</td>\n",
       "    </tr>\n",
       "    <tr>\n",
       "      <th>Charlotte Hornets</th>\n",
       "      <td>31.0</td>\n",
       "      <td>21.0</td>\n",
       "      <td>13500000.0</td>\n",
       "      <td>189455.0</td>\n",
       "    </tr>\n",
       "    <tr>\n",
       "      <th>Chicago Bulls</th>\n",
       "      <td>35.0</td>\n",
       "      <td>21.0</td>\n",
       "      <td>20093064.0</td>\n",
       "      <td>525093.0</td>\n",
       "    </tr>\n",
       "    <tr>\n",
       "      <th>Cleveland Cavaliers</th>\n",
       "      <td>35.0</td>\n",
       "      <td>24.0</td>\n",
       "      <td>22970500.0</td>\n",
       "      <td>111196.0</td>\n",
       "    </tr>\n",
       "    <tr>\n",
       "      <th>Dallas Mavericks</th>\n",
       "      <td>37.0</td>\n",
       "      <td>22.0</td>\n",
       "      <td>16407500.0</td>\n",
       "      <td>525093.0</td>\n",
       "    </tr>\n",
       "    <tr>\n",
       "      <th>Denver Nuggets</th>\n",
       "      <td>36.0</td>\n",
       "      <td>20.0</td>\n",
       "      <td>14000000.0</td>\n",
       "      <td>258489.0</td>\n",
       "    </tr>\n",
       "    <tr>\n",
       "      <th>Detroit Pistons</th>\n",
       "      <td>36.0</td>\n",
       "      <td>20.0</td>\n",
       "      <td>16000000.0</td>\n",
       "      <td>111444.0</td>\n",
       "    </tr>\n",
       "    <tr>\n",
       "      <th>Golden State Warriors</th>\n",
       "      <td>33.0</td>\n",
       "      <td>20.0</td>\n",
       "      <td>15501000.0</td>\n",
       "      <td>289755.0</td>\n",
       "    </tr>\n",
       "    <tr>\n",
       "      <th>Houston Rockets</th>\n",
       "      <td>38.0</td>\n",
       "      <td>22.0</td>\n",
       "      <td>22359364.0</td>\n",
       "      <td>200600.0</td>\n",
       "    </tr>\n",
       "    <tr>\n",
       "      <th>Indiana Pacers</th>\n",
       "      <td>30.0</td>\n",
       "      <td>20.0</td>\n",
       "      <td>17120106.0</td>\n",
       "      <td>211744.0</td>\n",
       "    </tr>\n",
       "    <tr>\n",
       "      <th>Los Angeles Clippers</th>\n",
       "      <td>39.0</td>\n",
       "      <td>23.0</td>\n",
       "      <td>21468695.0</td>\n",
       "      <td>111444.0</td>\n",
       "    </tr>\n",
       "    <tr>\n",
       "      <th>Los Angeles Lakers</th>\n",
       "      <td>37.0</td>\n",
       "      <td>20.0</td>\n",
       "      <td>25000000.0</td>\n",
       "      <td>525093.0</td>\n",
       "    </tr>\n",
       "    <tr>\n",
       "      <th>Memphis Grizzlies</th>\n",
       "      <td>39.0</td>\n",
       "      <td>21.0</td>\n",
       "      <td>19688000.0</td>\n",
       "      <td>700902.0</td>\n",
       "    </tr>\n",
       "    <tr>\n",
       "      <th>Miami Heat</th>\n",
       "      <td>36.0</td>\n",
       "      <td>20.0</td>\n",
       "      <td>22192730.0</td>\n",
       "      <td>261894.0</td>\n",
       "    </tr>\n",
       "    <tr>\n",
       "      <th>Milwaukee Bucks</th>\n",
       "      <td>32.0</td>\n",
       "      <td>19.0</td>\n",
       "      <td>16407500.0</td>\n",
       "      <td>295327.0</td>\n",
       "    </tr>\n",
       "    <tr>\n",
       "      <th>Minnesota Timberwolves</th>\n",
       "      <td>40.0</td>\n",
       "      <td>20.0</td>\n",
       "      <td>12700000.0</td>\n",
       "      <td>947276.0</td>\n",
       "    </tr>\n",
       "    <tr>\n",
       "      <th>New Orleans Pelicans</th>\n",
       "      <td>31.0</td>\n",
       "      <td>23.0</td>\n",
       "      <td>15514031.0</td>\n",
       "      <td>55722.0</td>\n",
       "    </tr>\n",
       "    <tr>\n",
       "      <th>New York Knicks</th>\n",
       "      <td>34.0</td>\n",
       "      <td>20.0</td>\n",
       "      <td>22875000.0</td>\n",
       "      <td>30888.0</td>\n",
       "    </tr>\n",
       "    <tr>\n",
       "      <th>Oklahoma City Thunder</th>\n",
       "      <td>38.0</td>\n",
       "      <td>21.0</td>\n",
       "      <td>20158622.0</td>\n",
       "      <td>222888.0</td>\n",
       "    </tr>\n",
       "    <tr>\n",
       "      <th>Orlando Magic</th>\n",
       "      <td>32.0</td>\n",
       "      <td>20.0</td>\n",
       "      <td>11250000.0</td>\n",
       "      <td>845059.0</td>\n",
       "    </tr>\n",
       "    <tr>\n",
       "      <th>Philadelphia 76ers</th>\n",
       "      <td>37.0</td>\n",
       "      <td>20.0</td>\n",
       "      <td>6500000.0</td>\n",
       "      <td>525093.0</td>\n",
       "    </tr>\n",
       "    <tr>\n",
       "      <th>Phoenix Suns</th>\n",
       "      <td>33.0</td>\n",
       "      <td>19.0</td>\n",
       "      <td>13500000.0</td>\n",
       "      <td>55722.0</td>\n",
       "    </tr>\n",
       "    <tr>\n",
       "      <th>Portland Trail Blazers</th>\n",
       "      <td>34.0</td>\n",
       "      <td>20.0</td>\n",
       "      <td>8042895.0</td>\n",
       "      <td>525093.0</td>\n",
       "    </tr>\n",
       "    <tr>\n",
       "      <th>Sacramento Kings</th>\n",
       "      <td>36.0</td>\n",
       "      <td>22.0</td>\n",
       "      <td>15851950.0</td>\n",
       "      <td>525093.0</td>\n",
       "    </tr>\n",
       "    <tr>\n",
       "      <th>San Antonio Spurs</th>\n",
       "      <td>40.0</td>\n",
       "      <td>22.0</td>\n",
       "      <td>19689000.0</td>\n",
       "      <td>200600.0</td>\n",
       "    </tr>\n",
       "    <tr>\n",
       "      <th>Toronto Raptors</th>\n",
       "      <td>36.0</td>\n",
       "      <td>20.0</td>\n",
       "      <td>13600000.0</td>\n",
       "      <td>245177.0</td>\n",
       "    </tr>\n",
       "    <tr>\n",
       "      <th>Utah Jazz</th>\n",
       "      <td>28.0</td>\n",
       "      <td>20.0</td>\n",
       "      <td>15409570.0</td>\n",
       "      <td>900000.0</td>\n",
       "    </tr>\n",
       "    <tr>\n",
       "      <th>Washington Wizards</th>\n",
       "      <td>34.0</td>\n",
       "      <td>20.0</td>\n",
       "      <td>15851950.0</td>\n",
       "      <td>200600.0</td>\n",
       "    </tr>\n",
       "  </tbody>\n",
       "</table>\n",
       "</div>"
      ],
      "text/plain": [
       "                         Age            Salary           \n",
       "                         max   min         max        min\n",
       "Team                                                     \n",
       "Atlanta Hawks           35.0  22.0  18671659.0   525093.0\n",
       "Boston Celtics          29.0  20.0  12000000.0  1148640.0\n",
       "Brooklyn Nets           32.0  21.0  19689000.0   134215.0\n",
       "Charlotte Hornets       31.0  21.0  13500000.0   189455.0\n",
       "Chicago Bulls           35.0  21.0  20093064.0   525093.0\n",
       "Cleveland Cavaliers     35.0  24.0  22970500.0   111196.0\n",
       "Dallas Mavericks        37.0  22.0  16407500.0   525093.0\n",
       "Denver Nuggets          36.0  20.0  14000000.0   258489.0\n",
       "Detroit Pistons         36.0  20.0  16000000.0   111444.0\n",
       "Golden State Warriors   33.0  20.0  15501000.0   289755.0\n",
       "Houston Rockets         38.0  22.0  22359364.0   200600.0\n",
       "Indiana Pacers          30.0  20.0  17120106.0   211744.0\n",
       "Los Angeles Clippers    39.0  23.0  21468695.0   111444.0\n",
       "Los Angeles Lakers      37.0  20.0  25000000.0   525093.0\n",
       "Memphis Grizzlies       39.0  21.0  19688000.0   700902.0\n",
       "Miami Heat              36.0  20.0  22192730.0   261894.0\n",
       "Milwaukee Bucks         32.0  19.0  16407500.0   295327.0\n",
       "Minnesota Timberwolves  40.0  20.0  12700000.0   947276.0\n",
       "New Orleans Pelicans    31.0  23.0  15514031.0    55722.0\n",
       "New York Knicks         34.0  20.0  22875000.0    30888.0\n",
       "Oklahoma City Thunder   38.0  21.0  20158622.0   222888.0\n",
       "Orlando Magic           32.0  20.0  11250000.0   845059.0\n",
       "Philadelphia 76ers      37.0  20.0   6500000.0   525093.0\n",
       "Phoenix Suns            33.0  19.0  13500000.0    55722.0\n",
       "Portland Trail Blazers  34.0  20.0   8042895.0   525093.0\n",
       "Sacramento Kings        36.0  22.0  15851950.0   525093.0\n",
       "San Antonio Spurs       40.0  22.0  19689000.0   200600.0\n",
       "Toronto Raptors         36.0  20.0  13600000.0   245177.0\n",
       "Utah Jazz               28.0  20.0  15409570.0   900000.0\n",
       "Washington Wizards      34.0  20.0  15851950.0   200600.0"
      ]
     },
     "execution_count": 93,
     "metadata": {},
     "output_type": "execute_result"
    }
   ],
   "source": [
    "data.groupby('Team')[['Age','Salary']].aggregate(['max','min'])"
   ]
  },
  {
   "cell_type": "markdown",
   "id": "a0ee1ec2-32d0-4e11-b869-59642fc5c91f",
   "metadata": {
    "tags": []
   },
   "source": [
    "Summarizing"
   ]
  },
  {
   "cell_type": "code",
   "execution_count": 97,
   "id": "859d9fba-de60-4bc2-9787-207c507cd4a8",
   "metadata": {
    "tags": []
   },
   "outputs": [
    {
     "data": {
      "text/html": [
       "<div>\n",
       "<style scoped>\n",
       "    .dataframe tbody tr th:only-of-type {\n",
       "        vertical-align: middle;\n",
       "    }\n",
       "\n",
       "    .dataframe tbody tr th {\n",
       "        vertical-align: top;\n",
       "    }\n",
       "\n",
       "    .dataframe thead th {\n",
       "        text-align: right;\n",
       "    }\n",
       "</style>\n",
       "<table border=\"1\" class=\"dataframe\">\n",
       "  <thead>\n",
       "    <tr style=\"text-align: right;\">\n",
       "      <th></th>\n",
       "      <th>Number</th>\n",
       "      <th>Age</th>\n",
       "      <th>Weight</th>\n",
       "      <th>Salary</th>\n",
       "    </tr>\n",
       "  </thead>\n",
       "  <tbody>\n",
       "    <tr>\n",
       "      <th>count</th>\n",
       "      <td>457.000000</td>\n",
       "      <td>457.000000</td>\n",
       "      <td>457.000000</td>\n",
       "      <td>4.460000e+02</td>\n",
       "    </tr>\n",
       "    <tr>\n",
       "      <th>mean</th>\n",
       "      <td>17.678337</td>\n",
       "      <td>26.938731</td>\n",
       "      <td>221.522976</td>\n",
       "      <td>4.842684e+06</td>\n",
       "    </tr>\n",
       "    <tr>\n",
       "      <th>std</th>\n",
       "      <td>15.966090</td>\n",
       "      <td>4.404016</td>\n",
       "      <td>26.368343</td>\n",
       "      <td>5.229238e+06</td>\n",
       "    </tr>\n",
       "    <tr>\n",
       "      <th>min</th>\n",
       "      <td>0.000000</td>\n",
       "      <td>19.000000</td>\n",
       "      <td>161.000000</td>\n",
       "      <td>3.088800e+04</td>\n",
       "    </tr>\n",
       "    <tr>\n",
       "      <th>25%</th>\n",
       "      <td>5.000000</td>\n",
       "      <td>24.000000</td>\n",
       "      <td>200.000000</td>\n",
       "      <td>1.044792e+06</td>\n",
       "    </tr>\n",
       "    <tr>\n",
       "      <th>50%</th>\n",
       "      <td>13.000000</td>\n",
       "      <td>26.000000</td>\n",
       "      <td>220.000000</td>\n",
       "      <td>2.839073e+06</td>\n",
       "    </tr>\n",
       "    <tr>\n",
       "      <th>75%</th>\n",
       "      <td>25.000000</td>\n",
       "      <td>30.000000</td>\n",
       "      <td>240.000000</td>\n",
       "      <td>6.500000e+06</td>\n",
       "    </tr>\n",
       "    <tr>\n",
       "      <th>max</th>\n",
       "      <td>99.000000</td>\n",
       "      <td>40.000000</td>\n",
       "      <td>307.000000</td>\n",
       "      <td>2.500000e+07</td>\n",
       "    </tr>\n",
       "  </tbody>\n",
       "</table>\n",
       "</div>"
      ],
      "text/plain": [
       "           Number         Age      Weight        Salary\n",
       "count  457.000000  457.000000  457.000000  4.460000e+02\n",
       "mean    17.678337   26.938731  221.522976  4.842684e+06\n",
       "std     15.966090    4.404016   26.368343  5.229238e+06\n",
       "min      0.000000   19.000000  161.000000  3.088800e+04\n",
       "25%      5.000000   24.000000  200.000000  1.044792e+06\n",
       "50%     13.000000   26.000000  220.000000  2.839073e+06\n",
       "75%     25.000000   30.000000  240.000000  6.500000e+06\n",
       "max     99.000000   40.000000  307.000000  2.500000e+07"
      ]
     },
     "execution_count": 97,
     "metadata": {},
     "output_type": "execute_result"
    }
   ],
   "source": [
    "data.describe()"
   ]
  },
  {
   "cell_type": "code",
   "execution_count": 102,
   "id": "25d21493-a98d-4f5b-aabd-a8950af55c31",
   "metadata": {
    "tags": []
   },
   "outputs": [
    {
     "data": {
      "text/plain": [
       "array(['Boston Celtics', 'Brooklyn Nets', 'New York Knicks',\n",
       "       'Philadelphia 76ers', 'Toronto Raptors', 'Golden State Warriors',\n",
       "       'Los Angeles Clippers', 'Los Angeles Lakers', 'Phoenix Suns',\n",
       "       'Sacramento Kings', 'Chicago Bulls', 'Cleveland Cavaliers',\n",
       "       'Detroit Pistons', 'Indiana Pacers', 'Milwaukee Bucks',\n",
       "       'Dallas Mavericks', 'Houston Rockets', 'Memphis Grizzlies',\n",
       "       'New Orleans Pelicans', 'San Antonio Spurs', 'Atlanta Hawks',\n",
       "       'Charlotte Hornets', 'Miami Heat', 'Orlando Magic',\n",
       "       'Washington Wizards', 'Denver Nuggets', 'Minnesota Timberwolves',\n",
       "       'Oklahoma City Thunder', 'Portland Trail Blazers', 'Utah Jazz',\n",
       "       nan], dtype=object)"
      ]
     },
     "execution_count": 102,
     "metadata": {},
     "output_type": "execute_result"
    }
   ],
   "source": [
    "data['Team'].unique()"
   ]
  },
  {
   "cell_type": "code",
   "execution_count": 103,
   "id": "01e718c8-284b-4391-8923-c77878fd8ba9",
   "metadata": {
    "tags": []
   },
   "outputs": [
    {
     "data": {
      "text/plain": [
       "30"
      ]
     },
     "execution_count": 103,
     "metadata": {},
     "output_type": "execute_result"
    }
   ],
   "source": [
    "data['Team'].nunique()"
   ]
  },
  {
   "cell_type": "code",
   "execution_count": 104,
   "id": "7cf7a6aa-4350-4bb0-82ea-d260e20e3b11",
   "metadata": {
    "tags": []
   },
   "outputs": [
    {
     "data": {
      "text/plain": [
       "Index(['Team', 'Number', 'Position', 'Age', 'Height', 'Weight', 'College',\n",
       "       'Salary'],\n",
       "      dtype='object')"
      ]
     },
     "execution_count": 104,
     "metadata": {},
     "output_type": "execute_result"
    }
   ],
   "source": [
    "data.columns"
   ]
  },
  {
   "cell_type": "code",
   "execution_count": 105,
   "id": "014837c2-81bd-44e8-a616-627887b1efb7",
   "metadata": {
    "tags": []
   },
   "outputs": [
    {
     "name": "stdout",
     "output_type": "stream",
     "text": [
      "<class 'pandas.core.frame.DataFrame'>\n",
      "Index: 458 entries, Avery Bradley to nan\n",
      "Data columns (total 8 columns):\n",
      " #   Column    Non-Null Count  Dtype  \n",
      "---  ------    --------------  -----  \n",
      " 0   Team      457 non-null    object \n",
      " 1   Number    457 non-null    float64\n",
      " 2   Position  457 non-null    object \n",
      " 3   Age       457 non-null    float64\n",
      " 4   Height    457 non-null    object \n",
      " 5   Weight    457 non-null    float64\n",
      " 6   College   373 non-null    object \n",
      " 7   Salary    446 non-null    float64\n",
      "dtypes: float64(4), object(4)\n",
      "memory usage: 48.4+ KB\n"
     ]
    }
   ],
   "source": [
    "data.info()"
   ]
  },
  {
   "cell_type": "code",
   "execution_count": null,
   "id": "2437a2b2-804b-44fa-b352-06abfb361cc8",
   "metadata": {},
   "outputs": [],
   "source": []
  }
 ],
 "metadata": {
  "kernelspec": {
   "display_name": "Python 3 (ipykernel)",
   "language": "python",
   "name": "python3"
  },
  "language_info": {
   "codemirror_mode": {
    "name": "ipython",
    "version": 3
   },
   "file_extension": ".py",
   "mimetype": "text/x-python",
   "name": "python",
   "nbconvert_exporter": "python",
   "pygments_lexer": "ipython3",
   "version": "3.11.5"
  }
 },
 "nbformat": 4,
 "nbformat_minor": 5
}
