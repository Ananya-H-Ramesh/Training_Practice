{
 "cells": [
  {
   "cell_type": "code",
   "execution_count": 1,
   "id": "7d9e912f-5034-467f-919f-f2ad8f3de918",
   "metadata": {},
   "outputs": [],
   "source": [
    "import pandas as pd"
   ]
  },
  {
   "cell_type": "code",
   "execution_count": 2,
   "id": "0c8d1abd-0c98-447d-b952-be05a1ae51e8",
   "metadata": {
    "tags": []
   },
   "outputs": [],
   "source": [
    "data = {\n",
    "    'Name':['Alice','Bob','Clarlie','David','Eve'],\n",
    "    'Age':[25,32,18,47,33],\n",
    "    'City':['New York','Paris','London','Tokyo','Sydney']\n",
    "}"
   ]
  },
  {
   "cell_type": "code",
   "execution_count": 3,
   "id": "a8eb8a9a-be91-4340-bee2-f0272ea3de7f",
   "metadata": {
    "tags": []
   },
   "outputs": [],
   "source": [
    "df = pd.DataFrame(data)"
   ]
  },
  {
   "cell_type": "code",
   "execution_count": 4,
   "id": "2398577c-4637-4cbe-b54b-0d8864562656",
   "metadata": {
    "tags": []
   },
   "outputs": [],
   "source": [
    "names = df['Name']"
   ]
  },
  {
   "cell_type": "code",
   "execution_count": 5,
   "id": "6e5929ac-8d31-4305-909d-c477ce3d46bf",
   "metadata": {
    "tags": []
   },
   "outputs": [
    {
     "data": {
      "text/plain": [
       "0      Alice\n",
       "1        Bob\n",
       "2    Clarlie\n",
       "3      David\n",
       "4        Eve\n",
       "Name: Name, dtype: object"
      ]
     },
     "execution_count": 5,
     "metadata": {},
     "output_type": "execute_result"
    }
   ],
   "source": [
    "names"
   ]
  },
  {
   "cell_type": "code",
   "execution_count": 6,
   "id": "318369c2-6a8e-4a80-bbb1-56fa05dbf346",
   "metadata": {
    "tags": []
   },
   "outputs": [],
   "source": [
    "name_city = df[['Name','City']]"
   ]
  },
  {
   "cell_type": "code",
   "execution_count": 7,
   "id": "50183b65-de6c-40a4-84ae-f6b6e84539f4",
   "metadata": {
    "tags": []
   },
   "outputs": [
    {
     "data": {
      "text/html": [
       "<div>\n",
       "<style scoped>\n",
       "    .dataframe tbody tr th:only-of-type {\n",
       "        vertical-align: middle;\n",
       "    }\n",
       "\n",
       "    .dataframe tbody tr th {\n",
       "        vertical-align: top;\n",
       "    }\n",
       "\n",
       "    .dataframe thead th {\n",
       "        text-align: right;\n",
       "    }\n",
       "</style>\n",
       "<table border=\"1\" class=\"dataframe\">\n",
       "  <thead>\n",
       "    <tr style=\"text-align: right;\">\n",
       "      <th></th>\n",
       "      <th>Name</th>\n",
       "      <th>City</th>\n",
       "    </tr>\n",
       "  </thead>\n",
       "  <tbody>\n",
       "    <tr>\n",
       "      <th>0</th>\n",
       "      <td>Alice</td>\n",
       "      <td>New York</td>\n",
       "    </tr>\n",
       "    <tr>\n",
       "      <th>1</th>\n",
       "      <td>Bob</td>\n",
       "      <td>Paris</td>\n",
       "    </tr>\n",
       "    <tr>\n",
       "      <th>2</th>\n",
       "      <td>Clarlie</td>\n",
       "      <td>London</td>\n",
       "    </tr>\n",
       "    <tr>\n",
       "      <th>3</th>\n",
       "      <td>David</td>\n",
       "      <td>Tokyo</td>\n",
       "    </tr>\n",
       "    <tr>\n",
       "      <th>4</th>\n",
       "      <td>Eve</td>\n",
       "      <td>Sydney</td>\n",
       "    </tr>\n",
       "  </tbody>\n",
       "</table>\n",
       "</div>"
      ],
      "text/plain": [
       "      Name      City\n",
       "0    Alice  New York\n",
       "1      Bob     Paris\n",
       "2  Clarlie    London\n",
       "3    David     Tokyo\n",
       "4      Eve    Sydney"
      ]
     },
     "execution_count": 7,
     "metadata": {},
     "output_type": "execute_result"
    }
   ],
   "source": [
    "name_city"
   ]
  },
  {
   "cell_type": "markdown",
   "id": "4c3d7d53-de21-4ca2-b0bd-736e92fa5c17",
   "metadata": {},
   "source": [
    ".loc[]"
   ]
  },
  {
   "cell_type": "code",
   "execution_count": 8,
   "id": "660c86d9-4fca-4beb-9180-16fd6f486699",
   "metadata": {
    "tags": []
   },
   "outputs": [],
   "source": [
    "single_row = df.loc[2]"
   ]
  },
  {
   "cell_type": "code",
   "execution_count": 9,
   "id": "47669ddb-d2bc-4a3f-8c24-d375ceef0061",
   "metadata": {
    "tags": []
   },
   "outputs": [],
   "source": [
    "list_rows = df.loc[[0,3,4]]"
   ]
  },
  {
   "cell_type": "code",
   "execution_count": 10,
   "id": "266bc2d6-dcfe-41ea-8849-820ef4e05c7f",
   "metadata": {
    "tags": []
   },
   "outputs": [],
   "source": [
    "column_list = df.loc[:,['Name','Age']]"
   ]
  },
  {
   "cell_type": "code",
   "execution_count": 12,
   "id": "7dcbbbef-0721-4cf9-970f-81d0e54f01d0",
   "metadata": {
    "tags": []
   },
   "outputs": [
    {
     "name": "stdout",
     "output_type": "stream",
     "text": [
      "Name    Clarlie\n",
      "Age          18\n",
      "City     London\n",
      "Name: 2, dtype: object\n",
      "\n",
      "    Name  Age      City\n",
      "0  Alice   25  New York\n",
      "3  David   47     Tokyo\n",
      "4    Eve   33    Sydney\n",
      "\n",
      "      Name  Age\n",
      "0    Alice   25\n",
      "1      Bob   32\n",
      "2  Clarlie   18\n",
      "3    David   47\n",
      "4      Eve   33\n",
      "\n"
     ]
    }
   ],
   "source": [
    "print(single_row)\n",
    "print()\n",
    "print(list_rows)\n",
    "print()\n",
    "print(column_list)\n",
    "print()"
   ]
  },
  {
   "cell_type": "markdown",
   "id": "d42b5c7f-fc88-43c0-84f7-50870700acbf",
   "metadata": {},
   "source": [
    "Slicing using .loc[]"
   ]
  },
  {
   "cell_type": "code",
   "execution_count": 13,
   "id": "b2c664af-8122-4269-9e14-13a9466a3656",
   "metadata": {
    "tags": []
   },
   "outputs": [],
   "source": [
    "slice_rows = df.loc[1:3]"
   ]
  },
  {
   "cell_type": "markdown",
   "id": "6c9d0346-106f-4b0f-a4ed-305724d84181",
   "metadata": {},
   "source": [
    "Endpoints are Inclusive i.e, Both 1 and 3 positions are included"
   ]
  },
  {
   "cell_type": "code",
   "execution_count": 16,
   "id": "10c48ce9-4883-49d0-81e2-eb28c03dfffc",
   "metadata": {
    "tags": []
   },
   "outputs": [],
   "source": [
    "slice_columns = df.loc[:,'Name':'Age']"
   ]
  },
  {
   "cell_type": "code",
   "execution_count": 17,
   "id": "d1e46dc5-81fe-4128-99e9-7b59a94749ec",
   "metadata": {
    "tags": []
   },
   "outputs": [
    {
     "name": "stdout",
     "output_type": "stream",
     "text": [
      "      Name  Age    City\n",
      "1      Bob   32   Paris\n",
      "2  Clarlie   18  London\n",
      "3    David   47   Tokyo\n",
      "\n",
      "      Name  Age\n",
      "0    Alice   25\n",
      "1      Bob   32\n",
      "2  Clarlie   18\n",
      "3    David   47\n",
      "4      Eve   33\n"
     ]
    }
   ],
   "source": [
    "print(slice_rows)\n",
    "print()\n",
    "print(slice_columns)"
   ]
  },
  {
   "cell_type": "markdown",
   "id": "5c615b39-3fc5-4cc0-b50b-a193e9c9d090",
   "metadata": {},
   "source": [
    "Boolean Indexing with .loc[]"
   ]
  },
  {
   "cell_type": "code",
   "execution_count": 18,
   "id": "aefd2cc3-b13f-4e7c-80f1-94aa73fd9742",
   "metadata": {
    "tags": []
   },
   "outputs": [],
   "source": [
    "boolean_index = df.loc[df['Age']> 30]"
   ]
  },
  {
   "cell_type": "code",
   "execution_count": 19,
   "id": "71a37d5d-05b2-40cc-bda4-7fe1d48349cd",
   "metadata": {
    "tags": []
   },
   "outputs": [
    {
     "name": "stdout",
     "output_type": "stream",
     "text": [
      "    Name  Age    City\n",
      "1    Bob   32   Paris\n",
      "3  David   47   Tokyo\n",
      "4    Eve   33  Sydney\n"
     ]
    }
   ],
   "source": [
    "print(boolean_index)"
   ]
  },
  {
   "cell_type": "markdown",
   "id": "e0e29e0c-4b9c-47e9-b91e-f938cb959515",
   "metadata": {},
   "source": [
    ".iloc[]"
   ]
  },
  {
   "cell_type": "code",
   "execution_count": 20,
   "id": "445d55f4-09fb-46c5-ad06-59e83b2f2b54",
   "metadata": {
    "tags": []
   },
   "outputs": [],
   "source": [
    "single_row = df.iloc[2]"
   ]
  },
  {
   "cell_type": "code",
   "execution_count": 21,
   "id": "b153c68c-c2f2-4d36-aaa4-a2b4854f9aae",
   "metadata": {
    "tags": []
   },
   "outputs": [],
   "source": [
    "row_list=df.iloc[[0,3,4]]"
   ]
  },
  {
   "cell_type": "code",
   "execution_count": 22,
   "id": "25935057-9ed8-44cb-b77a-5850e6824106",
   "metadata": {
    "tags": []
   },
   "outputs": [],
   "source": [
    "column_list = df.iloc[:,[0,2]]"
   ]
  },
  {
   "cell_type": "code",
   "execution_count": 23,
   "id": "3e6eef78-4882-4494-a802-61a91cfc6bae",
   "metadata": {
    "tags": []
   },
   "outputs": [],
   "source": [
    "specific_value = df.iloc[1,0]"
   ]
  },
  {
   "cell_type": "code",
   "execution_count": 24,
   "id": "9609c47c-2c2c-4c63-a33e-7f6ef8837e2e",
   "metadata": {
    "tags": []
   },
   "outputs": [
    {
     "name": "stdout",
     "output_type": "stream",
     "text": [
      "Single Row:\n",
      "Name    Clarlie\n",
      "Age          18\n",
      "City     London\n",
      "Name: 2, dtype: object\n",
      "\n",
      "List of Rows:\n",
      "    Name  Age      City\n",
      "0  Alice   25  New York\n",
      "3  David   47     Tokyo\n",
      "4    Eve   33    Sydney\n",
      "\n",
      "List of Columns:\n",
      "      Name      City\n",
      "0    Alice  New York\n",
      "1      Bob     Paris\n",
      "2  Clarlie    London\n",
      "3    David     Tokyo\n",
      "4      Eve    Sydney\n",
      "\n",
      "Specific Value:\n",
      "Bob\n"
     ]
    }
   ],
   "source": [
    "print(\"Single Row:\")\n",
    "print(single_row)\n",
    "print()\n",
    "print(\"List of Rows:\")\n",
    "print(row_list)\n",
    "print()\n",
    "print(\"List of Columns:\")\n",
    "print(column_list)\n",
    "print()\n",
    "print(\"Specific Value:\")\n",
    "print(specific_value)"
   ]
  },
  {
   "cell_type": "markdown",
   "id": "3518a658-ef2f-4b3d-921c-622a2c0323d2",
   "metadata": {},
   "source": [
    "Slicing using .iloc[]"
   ]
  },
  {
   "cell_type": "code",
   "execution_count": 25,
   "id": "38cfe4f1-8eaa-4346-b027-d5eab7932e54",
   "metadata": {
    "tags": []
   },
   "outputs": [],
   "source": [
    "slice_rows = df.iloc[1:4]"
   ]
  },
  {
   "cell_type": "markdown",
   "id": "69a3491b-8fb4-42ed-937b-257dd4907cc7",
   "metadata": {},
   "source": [
    "Notice that the position 4 is not inclusive in df.iloc[1:4]."
   ]
  },
  {
   "cell_type": "code",
   "execution_count": 28,
   "id": "7a46bd4f-3527-4fbb-81b5-84632c4260bd",
   "metadata": {
    "tags": []
   },
   "outputs": [],
   "source": [
    "slice_column = df.iloc[:,0:2]"
   ]
  },
  {
   "cell_type": "markdown",
   "id": "0546ff3c-c6a2-47bf-8e69-873d0e9d8cb6",
   "metadata": {
    "tags": []
   },
   "source": [
    "Notice that the position 2 is not inclusive in df.iloc[:,0:2]."
   ]
  },
  {
   "cell_type": "code",
   "execution_count": 27,
   "id": "fceca238-a711-4100-b30d-ad4c6abb8773",
   "metadata": {
    "tags": []
   },
   "outputs": [
    {
     "name": "stdout",
     "output_type": "stream",
     "text": [
      "      Name  Age    City\n",
      "1      Bob   32   Paris\n",
      "2  Clarlie   18  London\n",
      "3    David   47   Tokyo\n",
      "\n",
      "      Name  Age\n",
      "0    Alice   25\n",
      "1      Bob   32\n",
      "2  Clarlie   18\n",
      "3    David   47\n",
      "4      Eve   33\n",
      "\n"
     ]
    }
   ],
   "source": [
    "print(slice_rows)\n",
    "print()\n",
    "print(slice_column)\n",
    "print()"
   ]
  },
  {
   "cell_type": "code",
   "execution_count": null,
   "id": "45caa78e-1f19-4e71-a68f-3fd7debbda00",
   "metadata": {},
   "outputs": [],
   "source": []
  }
 ],
 "metadata": {
  "kernelspec": {
   "display_name": "Python 3 (ipykernel)",
   "language": "python",
   "name": "python3"
  },
  "language_info": {
   "codemirror_mode": {
    "name": "ipython",
    "version": 3
   },
   "file_extension": ".py",
   "mimetype": "text/x-python",
   "name": "python",
   "nbconvert_exporter": "python",
   "pygments_lexer": "ipython3",
   "version": "3.11.5"
  }
 },
 "nbformat": 4,
 "nbformat_minor": 5
}
